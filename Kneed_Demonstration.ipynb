{
  "nbformat": 4,
  "nbformat_minor": 0,
  "metadata": {
    "colab": {
      "provenance": [],
      "collapsed_sections": [],
      "authorship_tag": "ABX9TyPfMjUJcJTrp9G5gcCMCDdj",
      "include_colab_link": true
    },
    "kernelspec": {
      "name": "python3",
      "display_name": "Python 3"
    },
    "language_info": {
      "name": "python"
    }
  },
  "cells": [
    {
      "cell_type": "markdown",
      "metadata": {
        "id": "view-in-github",
        "colab_type": "text"
      },
      "source": [
        "<a href=\"https://colab.research.google.com/github/CShorten/Small-Weaviate-Examples/blob/main/Kneed_Demonstration.ipynb\" target=\"_parent\"><img src=\"https://colab.research.google.com/assets/colab-badge.svg\" alt=\"Open In Colab\"/></a>"
      ]
    },
    {
      "cell_type": "code",
      "execution_count": 2,
      "metadata": {
        "id": "Hl7_eiFRiKXq"
      },
      "outputs": [],
      "source": [
        "!pip install kneed > /dev/null"
      ]
    },
    {
      "cell_type": "code",
      "source": [
        "x = [1,2,3,4,5]\n",
        "y = [0.99, 0.98, 0.97, 0.4, 0.2]\n",
        "\n",
        "from kneed import KneeLocator\n",
        "\n",
        "kneedle = KneeLocator(x, y, S=1.0, curve=\"concave\", direction=\"decreasing\") # be mindful of direction for distance metrics\n",
        "kneedle.plot_knee()"
      ],
      "metadata": {
        "id": "5Gc-AufLiO7F",
        "colab": {
          "base_uri": "https://localhost:8080/",
          "height": 390
        },
        "outputId": "e4fd09b4-7550-4662-ca20-79ba4a8aa1e2"
      },
      "execution_count": 7,
      "outputs": [
        {
          "output_type": "display_data",
          "data": {
            "text/plain": [
              "<Figure size 432x432 with 1 Axes>"
            ],
            "image/png": "[encoded data removed]"
          },
          "metadata": {
            "needs_background": "light"
          }
        }
      ]
    },
    {
      "cell_type": "code",
      "source": [
        "kneedle.elbow"
      ],
      "metadata": {
        "colab": {
          "base_uri": "https://localhost:8080/"
        },
        "id": "e5n-UbbZV5WA",
        "outputId": "b3f224b2-f963-4c9c-d8e5-1af2c2e2c2f8"
      },
      "execution_count": 8,
      "outputs": [
        {
          "output_type": "execute_result",
          "data": {
            "text/plain": [
              "3"
            ]
          },
          "metadata": {},
          "execution_count": 8
        }
      ]
    },
    {
      "cell_type": "code",
      "source": [],
      "metadata": {
        "id": "uZFHDuhlWYCO"
      },
      "execution_count": null,
      "outputs": []
    }
  ]
}