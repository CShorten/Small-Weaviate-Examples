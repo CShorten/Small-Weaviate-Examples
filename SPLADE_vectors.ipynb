{
  "nbformat": 4,
  "nbformat_minor": 0,
  "metadata": {
    "colab": {
      "provenance": []
    },
    "kernelspec": {
      "name": "python3",
      "display_name": "Python 3"
    },
    "language_info": {
      "name": "python"
    }
  },
  "cells": [
    {
      "cell_type": "code",
      "source": [
        "!pip install transformers sentence-transformers > /dev/null"
      ],
      "metadata": {
        "id": "XK-yveDgEb_V"
      },
      "execution_count": 1,
      "outputs": []
    },
    {
      "cell_type": "code",
      "source": [
        "test = \"The capital of the United States is [MASK].\""
      ],
      "metadata": {
        "id": "drKtq8gATRk7"
      },
      "execution_count": 80,
      "outputs": []
    },
    {
      "cell_type": "code",
      "source": [
        "from transformers import BertTokenizer, BertForMaskedLM\n",
        "import torch\n",
        "\n",
        "tokenizer = BertTokenizer.from_pretrained(\"bert-base-uncased\")\n",
        "model = BertForMaskedLM.from_pretrained(\"bert-base-uncased\")\n",
        "\n",
        "inputs = tokenizer(test, return_tensors=\"pt\")\n",
        "\n",
        "logits = model(**inputs).logits\n",
        "\n",
        "# retrieve index of [MASK]\n",
        "mask_token_index = (inputs.input_ids == tokenizer.mask_token_id)[0].nonzero(as_tuple=True)[0]\n",
        "\n",
        "#predicted_token_id = logits[0, mask_token_index].argmax(axis=-1)\n",
        "predicted_token_id = torch.argmax(logits[0, mask_token_index])\n",
        "tokenizer.decode([predicted_token_id])"
      ],
      "metadata": {
        "colab": {
          "base_uri": "https://localhost:8080/",
          "height": 36
        },
        "id": "q3wUAS_nM1c-",
        "outputId": "492e3ec8-b781-4dea-8cd3-b4fa47d15e9d"
      },
      "execution_count": 81,
      "outputs": [
        {
          "output_type": "execute_result",
          "data": {
            "text/plain": [
              "'atlanta'"
            ],
            "application/vnd.google.colaboratory.intrinsic+json": {
              "type": "string"
            }
          },
          "metadata": {},
          "execution_count": 81
        }
      ]
    },
    {
      "cell_type": "code",
      "source": [
        "pooled_input = encoder.encode([test])\n",
        "projector = model.cls\n",
        "projected_logits = projector(torch.tensor(pooled_input))\n",
        "\n",
        "logit_density = {}\n",
        "\n",
        "for logit_idx, density_val in enumerate(projected_logits[0].tolist()):\n",
        "  logit_density[logit_idx] = density_val\n",
        "\n",
        "sorted_scores = sorted(logit_density.items(), key = lambda item: item[1], reverse=True)\n",
        "\n",
        "for idx in range(50):\n",
        "  print(tokenizer.decode([sorted_scores[idx][0]]))"
      ],
      "metadata": {
        "colab": {
          "base_uri": "https://localhost:8080/"
        },
        "id": "Dq_87xOeR4J3",
        "outputId": "911456cd-426a-4bae-fba6-4ea35e1d9ec9"
      },
      "execution_count": 82,
      "outputs": [
        {
          "output_type": "stream",
          "name": "stdout",
          "text": [
            ".\n",
            "of\n",
            "the\n",
            "capital\n",
            "city\n",
            ",\n",
            "in\n",
            "is\n",
            "s\n",
            "state\n",
            "county\n",
            "and\n",
            "country\n",
            "'\n",
            "\"\n",
            "-\n",
            "united\n",
            "its\n",
            "washington\n",
            "southern\n",
            "a\n",
            "it\n",
            "american\n",
            ";\n",
            "california\n",
            "to\n",
            "center\n",
            "where\n",
            "largest\n",
            "federal\n",
            "for\n",
            "nation\n",
            "states\n",
            "metropolitan\n",
            "president\n",
            "by\n",
            "new\n",
            "northern\n",
            "canada\n",
            "union\n",
            "mexico\n",
            "(\n",
            ":\n",
            "government\n",
            "oklahoma\n",
            "national\n",
            "most\n",
            "liberty\n",
            "second\n",
            "usa\n"
          ]
        }
      ]
    },
    {
      "cell_type": "code",
      "source": [],
      "metadata": {
        "id": "xtAHr-eVSjSj"
      },
      "execution_count": null,
      "outputs": []
    }
  ]
}