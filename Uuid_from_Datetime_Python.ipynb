{
  "nbformat": 4,
  "nbformat_minor": 0,
  "metadata": {
    "colab": {
      "provenance": [],
      "collapsed_sections": [],
      "authorship_tag": "ABX9TyP3SO0xj9PC0Ys29vdyIEp6",
      "include_colab_link": true
    },
    "kernelspec": {
      "name": "python3",
      "display_name": "Python 3"
    },
    "language_info": {
      "name": "python"
    }
  },
  "cells": [
    {
      "cell_type": "markdown",
      "metadata": {
        "id": "view-in-github",
        "colab_type": "text"
      },
      "source": [
        "<a href=\"https://colab.research.google.com/github/CShorten/Small-Weaviate-Examples/blob/main/Uuid_from_Datetime_Python.ipynb\" target=\"_parent\"><img src=\"https://colab.research.google.com/assets/colab-badge.svg\" alt=\"Open In Colab\"/></a>"
      ]
    },
    {
      "cell_type": "code",
      "execution_count": 1,
      "metadata": {
        "id": "aUzbK8oCRn8S"
      },
      "outputs": [],
      "source": [
        "!pip install weaviate-client > /dev/null"
      ]
    },
    {
      "cell_type": "code",
      "source": [
        "from datetime import datetime, timezone\n",
        "\n",
        "datetime_now = datetime.now()\n",
        "datetime_now = datetime_now.strftime(\"%m-%d-%YT%H:%M:%S+00:00\")"
      ],
      "metadata": {
        "id": "-_EEHELjRtUo"
      },
      "execution_count": 24,
      "outputs": []
    },
    {
      "cell_type": "code",
      "source": [
        "from weaviate.util import generate_uuid5\n",
        "\n",
        "generate_uuid5(datetime_now)"
      ],
      "metadata": {
        "colab": {
          "base_uri": "https://localhost:8080/",
          "height": 35
        },
        "id": "dc_NS5VbUhdW",
        "outputId": "81b9596f-9e73-4e59-b603-c6b7b624097c"
      },
      "execution_count": 25,
      "outputs": [
        {
          "output_type": "execute_result",
          "data": {
            "text/plain": [
              "'041f9758-f338-5634-8f17-a9db022651e0'"
            ],
            "application/vnd.google.colaboratory.intrinsic+json": {
              "type": "string"
            }
          },
          "metadata": {},
          "execution_count": 25
        }
      ]
    },
    {
      "cell_type": "code",
      "source": [],
      "metadata": {
        "id": "_AfjzwsjXne-"
      },
      "execution_count": null,
      "outputs": []
    }
  ]
}